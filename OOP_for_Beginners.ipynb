{
 "cells": [
  {
   "cell_type": "markdown",
   "id": "5988e11f",
   "metadata": {},
   "source": [
    "# 1. Introduction to Objects and Classes"
   ]
  },
  {
   "cell_type": "markdown",
   "id": "d70f8e37",
   "metadata": {},
   "source": [
    "\n",
    "Object-Oriented Programming (OOP) organizes code using **objects**, which are instances of **classes**.\n",
    "A class is like a blueprint, and an object is an actual thing you create using that blueprint.\n"
   ]
  },
  {
   "cell_type": "code",
   "execution_count": 1,
   "id": "c57685a7",
   "metadata": {},
   "outputs": [
    {
     "name": "stdout",
     "output_type": "stream",
     "text": [
      "15\n"
     ]
    }
   ],
   "source": [
    "a =10\n",
    "b = 5\n",
    "sum =a+b\n",
    "print(sum)"
   ]
  },
  {
   "cell_type": "code",
   "execution_count": 2,
   "id": "cbf4aa0c",
   "metadata": {},
   "outputs": [
    {
     "name": "stdout",
     "output_type": "stream",
     "text": [
      "15\n"
     ]
    }
   ],
   "source": [
    "def sum(a,b):\n",
    "    return a+b\n",
    "result =sum(10,5)\n",
    "print(result)"
   ]
  },
  {
   "cell_type": "markdown",
   "id": "72628400",
   "metadata": {},
   "source": [
    "## Example: \"Student\"\n",
    "Imagine you're in a school where there are many students. Every student has:\n",
    "\n",
    "A name\n",
    "\n",
    "An age\n",
    "\n",
    "A grade/class\n",
    "\n",
    "And each student can:\n",
    "\n",
    "Study\n",
    "\n",
    "Take exams\n",
    "\n",
    "Ask for leave\n",
    "\n",
    "We can create a class called Student to represent all this.\n",
    "\n"
   ]
  },
  {
   "cell_type": "markdown",
   "id": "718154a8",
   "metadata": {},
   "source": [
    "## Step 1: Define the Class"
   ]
  },
  {
   "cell_type": "code",
   "execution_count": 3,
   "id": "12ab43db",
   "metadata": {},
   "outputs": [
    {
     "name": "stdout",
     "output_type": "stream",
     "text": [
      "Ali\n"
     ]
    }
   ],
   "source": [
    "class Student:\n",
    "    name =\"Ali\"\n",
    "student1 =Student()\n",
    "print(student1.name)"
   ]
  },
  {
   "cell_type": "code",
   "execution_count": 8,
   "id": "ba4f29d4",
   "metadata": {},
   "outputs": [
    {
     "name": "stdout",
     "output_type": "stream",
     "text": [
      "blue\n"
     ]
    }
   ],
   "source": [
    "class Car:\n",
    "    color = \"blue\"\n",
    "car1 =Car()\n",
    "print(car1.color)"
   ]
  },
  {
   "cell_type": "code",
   "execution_count": 4,
   "id": "b014c64b",
   "metadata": {},
   "outputs": [
    {
     "name": "stdout",
     "output_type": "stream",
     "text": [
      "blue\n",
      "Mercades\n"
     ]
    }
   ],
   "source": [
    "class Car:\n",
    "    color = \"blue\"\n",
    "    brand =\"Mercades\"\n",
    "car1 =Car()\n",
    "print(car1.color)\n",
    "print(car1.brand)"
   ]
  },
  {
   "cell_type": "markdown",
   "id": "677ca6d7",
   "metadata": {},
   "source": [
    "### __init__Function\n",
    "**Constructore**\n",
    "\n",
    "All classes have a function called __init__(),Which is always executed when the class is being initiated"
   ]
  },
  {
   "cell_type": "code",
   "execution_count": 5,
   "id": "680a404b",
   "metadata": {},
   "outputs": [
    {
     "name": "stdout",
     "output_type": "stream",
     "text": [
      "Adding a new student in Database....\n"
     ]
    }
   ],
   "source": [
    "class Student:\n",
    "    def __init__(self,):\n",
    "        print(\"Adding a new student in Database....\")\n",
    "student1 =Student()   "
   ]
  },
  {
   "cell_type": "code",
   "execution_count": null,
   "id": "c3a6e951",
   "metadata": {},
   "outputs": [],
   "source": [
    "class Student:\n",
    "    def __init__(self, name, age, grade):\n",
    "        self.name = name\n",
    "        self.age = age\n",
    "        self.grade = grade\n",
    "\n",
    "    def study(self):\n",
    "        print(f\"{self.name} is studying.\")\n",
    "\n",
    "    def take_exam(self):\n",
    "        print(f\"{self.name} is taking an exam.\")\n"
   ]
  },
  {
   "cell_type": "markdown",
   "id": "a0a71d8e",
   "metadata": {},
   "source": [
    "## Step 2: Create Objects from the Class"
   ]
  },
  {
   "cell_type": "code",
   "execution_count": null,
   "id": "3948ae32",
   "metadata": {},
   "outputs": [],
   "source": [
    "student1 = Student(\"Ali\", 16, \"10th\")\n",
    "student2 = Student(\"Sara\", 15, \"9th\")\n",
    "\n",
    "student1.study()        # Output: Ali is studying.\n",
    "student2.take_exam()    # Output: Sara is taking an exam.\n"
   ]
  },
  {
   "cell_type": "code",
   "execution_count": 6,
   "id": "920d4088",
   "metadata": {},
   "outputs": [
    {
     "name": "stdout",
     "output_type": "stream",
     "text": [
      "Ali is studying.\n",
      "Sara is taking an exam.\n"
     ]
    }
   ],
   "source": [
    "class Student:\n",
    "    def __init__(self, name, age, grade):\n",
    "        self.name = name\n",
    "        self.age = age\n",
    "        self.grade = grade\n",
    "\n",
    "    def study(self):\n",
    "        print(f\"{self.name} is studying.\")\n",
    "\n",
    "    def take_exam(self):\n",
    "        print(f\"{self.name} is taking an exam.\")\n",
    "student1 = Student(\"Ali\", 16, \"10th\")\n",
    "student2 = Student(\"Sara\", 15, \"9th\")\n",
    "\n",
    "student1.study()        # Output: Ali is studying.\n",
    "student2.take_exam()    # Output: Sara is taking an exam.\n"
   ]
  },
  {
   "cell_type": "markdown",
   "id": "81c99896",
   "metadata": {},
   "source": [
    "# 2. Creating Classes"
   ]
  },
  {
   "cell_type": "markdown",
   "id": "662aa28f",
   "metadata": {},
   "source": [
    "\n",
    "A class in Python is created using the `class` keyword. The `__init__` method is called when the object is created.\n"
   ]
  },
  {
   "cell_type": "code",
   "execution_count": 7,
   "id": "888e7b1f",
   "metadata": {},
   "outputs": [
    {
     "name": "stdout",
     "output_type": "stream",
     "text": [
      "Toyota\n"
     ]
    }
   ],
   "source": [
    "\n",
    "class Car:\n",
    "    def __init__(self, brand, model):\n",
    "        self.brand = brand\n",
    "        self.model = model\n",
    "\n",
    "my_car = Car(\"Toyota\", \"Corolla\")\n",
    "print(my_car.brand)\n"
   ]
  },
  {
   "cell_type": "markdown",
   "id": "7c0e560b",
   "metadata": {},
   "source": [
    "# 3. Instances and Methods"
   ]
  },
  {
   "cell_type": "markdown",
   "id": "4030ae92",
   "metadata": {},
   "source": [
    "\n",
    "An **instance** is a specific object created from a class. **Methods** are functions defined in a class.\n"
   ]
  },
  {
   "cell_type": "code",
   "execution_count": null,
   "id": "fdd4e9f6",
   "metadata": {},
   "outputs": [],
   "source": [
    "class Student:\n",
    "    def __init__(self):"
   ]
  },
  {
   "cell_type": "code",
   "execution_count": 23,
   "id": "b265ff25",
   "metadata": {},
   "outputs": [
    {
     "name": "stdout",
     "output_type": "stream",
     "text": [
      "Hello, my name is Ali!\n",
      "I'm 20 years old\n",
      " I'm ABC College Student\n",
      "Hello, my name is Hamza!\n",
      "I'm 25 years old\n",
      " I'm ABC College Student\n"
     ]
    }
   ],
   "source": [
    "\n",
    "class Student:\n",
    "    college_name =\" I'm ABC College Student\"\n",
    "\n",
    "    def __init__(self, name, age):\n",
    "        self.name = name\n",
    "        self.age = age\n",
    "    def greet(self):\n",
    "        print(f\"Hello, my name is {self.name}!\")\n",
    "\n",
    "    def info(self):\n",
    "        print(f\"I'm {self.age} years old\")\n",
    "s1 = Student(\"Ali\",20)\n",
    "s2 = Student(\"Hamza\",25)\n",
    "s1.greet()\n",
    "s1.info()\n",
    "print(s1.college_name)\n",
    "\n",
    "s2.greet()\n",
    "s2.info()\n",
    "print(s2.college_name)\n"
   ]
  },
  {
   "cell_type": "markdown",
   "id": "2b6bc595",
   "metadata": {},
   "source": [
    "# 4. Encapsulation"
   ]
  },
  {
   "cell_type": "markdown",
   "id": "1a224cc1",
   "metadata": {},
   "source": [
    "\n",
    "Encapsulation is about hiding internal data and providing methods to access or modify it.\n"
   ]
  },
  {
   "cell_type": "code",
   "execution_count": 24,
   "id": "235410dd",
   "metadata": {},
   "outputs": [
    {
     "name": "stdout",
     "output_type": "stream",
     "text": [
      "100\n"
     ]
    }
   ],
   "source": [
    "\n",
    "class BankAccount:\n",
    "    def __init__(self):\n",
    "        self.balance = 0\n",
    "\n",
    "    def deposit(self, amount):\n",
    "        self.balance += amount\n",
    "\n",
    "    def get_balance(self):\n",
    "        return self.balance\n",
    "\n",
    "account = BankAccount()\n",
    "account.deposit(100)\n",
    "print(account.get_balance())\n"
   ]
  },
  {
   "cell_type": "markdown",
   "id": "c35986ff",
   "metadata": {},
   "source": [
    "# 5. Inheritance"
   ]
  },
  {
   "cell_type": "markdown",
   "id": "4a04e9e4",
   "metadata": {},
   "source": [
    "\n",
    "Inheritance lets a class use properties and methods of another class.\n"
   ]
  },
  {
   "cell_type": "code",
   "execution_count": 25,
   "id": "da4c2ea0",
   "metadata": {},
   "outputs": [
    {
     "name": "stdout",
     "output_type": "stream",
     "text": [
      "Rex barks.\n"
     ]
    }
   ],
   "source": [
    "\n",
    "class Animal:\n",
    "    def __init__(self, name):\n",
    "        self.name = name\n",
    "\n",
    "    def speak(self):\n",
    "        print(f\"{self.name} makes a sound.\")\n",
    "\n",
    "class Dog(Animal):\n",
    "    def speak(self):\n",
    "        print(f\"{self.name} barks.\")\n",
    "\n",
    "my_pet = Dog(\"Rex\")\n",
    "my_pet.speak()\n"
   ]
  }
 ],
 "metadata": {
  "kernelspec": {
   "display_name": "base",
   "language": "python",
   "name": "python3"
  },
  "language_info": {
   "codemirror_mode": {
    "name": "ipython",
    "version": 3
   },
   "file_extension": ".py",
   "mimetype": "text/x-python",
   "name": "python",
   "nbconvert_exporter": "python",
   "pygments_lexer": "ipython3",
   "version": "3.12.9"
  }
 },
 "nbformat": 4,
 "nbformat_minor": 5
}
